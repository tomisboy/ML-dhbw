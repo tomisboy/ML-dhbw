{
 "cells": [
  {
   "cell_type": "code",
   "execution_count": 1,
   "id": "e81bbe56",
   "metadata": {},
   "outputs": [],
   "source": [
    "import os\n",
    "import numpy as np\n",
    "import matplotlib.pyplot as plt\n",
    "from PIL import Image\n",
    "%matplotlib inline\n",
    "import xml.etree.ElementTree as ET\n",
    "import cv2\n",
    "import seaborn as sns\n",
    "from sklearn import utils\n",
    "import tensorflow as tf\n",
    "\n",
    "\n",
    "\n",
    "import warnings\n",
    "warnings.simplefilter(action='ignore', category=FutureWarning)\n",
    "\n"
   ]
  },
  {
   "cell_type": "code",
   "execution_count": 2,
   "id": "1335edf6",
   "metadata": {},
   "outputs": [],
   "source": [
    "# Merkmalsreduktion\n",
    "# Schneide irrelevante Informationen aus dem Bilder heraus.\n",
    "# Speichere die Merkalsreduzierten Bilder in einen neuen Ordner /data/\n",
    "\n",
    "all_dogs = 0  # Zählvariable der Hundebilder \n",
    "data_dir = os.getcwd() + '\\\\'\n",
    "breed_list = os.listdir(data_dir + 'images\\\\Images\\\\')\n",
    "os.makedirs('data', exist_ok=True)\n",
    "\n",
    "\n",
    "for breed in breed_list:\n",
    "    os.makedirs('data\\\\' + breed, exist_ok=True)\n",
    "for breed in os.listdir('data'):\n",
    "    for file in os.listdir(data_dir + 'annotation\\\\Annotation\\\\' + breed):\n",
    "        img = Image.open(data_dir + 'images\\\\Images\\\\' + breed + '\\\\' + file + '.jpg')\n",
    "        tree = ET.parse(data_dir + 'annotation\\\\Annotation\\\\' + breed + '\\\\' + file)\n",
    "        xmin = int(tree.getroot().findall('object')[0].find('bndbox').find('xmin').text)\n",
    "        xmax = int(tree.getroot().findall('object')[0].find('bndbox').find('xmax').text)\n",
    "        ymin = int(tree.getroot().findall('object')[0].find('bndbox').find('ymin').text)\n",
    "        ymax = int(tree.getroot().findall('object')[0].find('bndbox').find('ymax').text)\n",
    "        img = img.crop((xmin,ymin,xmax,ymax))\n",
    "        img = img.convert('RGB')\n",
    "        img.save('data//' + breed + '/' + file + '.jpg')\n",
    "        all_dogs = all_dogs+1"
   ]
  },
  {
   "cell_type": "code",
   "execution_count": 3,
   "id": "f3571f97",
   "metadata": {},
   "outputs": [],
   "source": [
    "#lese daten  in \"bilder aka imagepath array ein und der dazugehörigen daten aka label_array\"\n",
    "# Speichere die Bilddaten (RGB Werte) in ein array\n",
    "# Speichere die Hunderassen in \n",
    "SCALE = 32 # Setzte Skalierungsfaktor auf welchen die Bilder alle Skaliert werden\n",
    "data_array = []\n",
    "label_array= []\n",
    "breedNum = 0\n",
    "for breed in breed_list:\n",
    "    imagepath=(data_dir + 'data\\\\' + breed )\n",
    "    for img in os.listdir(imagepath):\n",
    "        img_array=cv2.imread(os.path.join(imagepath,img))\n",
    "        #data_array.append(img_array.tolist())\n",
    "        data_array.append(cv2.resize(img_array,(SCALE,SCALE)).tolist())\n",
    "        label_array.append(breedNum) # Setze Hunderasseart auf eine ID\n",
    "    breedNum = breedNum + 1"
   ]
  },
  {
   "cell_type": "code",
   "execution_count": 4,
   "id": "47b58049",
   "metadata": {},
   "outputs": [],
   "source": [
    "#reshape und skaliere alle Bilder\n",
    "data_array = np.array(data_array)\n",
    "data_array = data_array.reshape(len(data_array), 3, SCALE, SCALE).transpose(0,2,3,1)"
   ]
  },
  {
   "cell_type": "markdown",
   "id": "b7a5711f",
   "metadata": {},
   "source": [
    "Aufgabe 2:"
   ]
  },
  {
   "cell_type": "code",
   "execution_count": 5,
   "id": "141e10db",
   "metadata": {},
   "outputs": [],
   "source": [
    "\n",
    "#### Schuffel einschalten###\n",
    "label_array, data_array = utils.shuffle(label_array, data_array)\n",
    "\n",
    "# Einteilen der TEST und TRAIN Daten\n",
    "size_of_train= int(all_dogs*0.75)\n",
    "size_of_test = int(all_dogs*0.25)\n",
    "X_train = np.array(data_array[:size_of_train])\n",
    "Y_train = np.array(label_array[:size_of_train])\n",
    "\n",
    "X_test = np.array(data_array[-size_of_test:])\n",
    "Y_test = np.array(label_array[-size_of_test:])\n",
    "\n",
    "Y_train = Y_train.flatten()\n",
    "Y_test = Y_test.flatten()"
   ]
  },
  {
   "cell_type": "code",
   "execution_count": 6,
   "id": "0a508558",
   "metadata": {},
   "outputs": [],
   "source": [
    "\n",
    "input_shape = (SCALE, SCALE, 3)\n",
    "\n",
    "\n",
    "X_train=X_train.reshape(X_train.shape[0], X_train.shape[1], X_train.shape[2], 3)\n",
    "X_train=X_train / 255.0\n",
    "\n",
    "X_test = X_test.reshape(X_test.shape[0], X_test.shape[1], X_test.shape[2], 3)\n",
    "X_test=X_test / 255.0\n",
    "\n",
    "\n",
    "Y_train = tf.one_hot(Y_train.astype(np.int32), depth=10)\n",
    "Y_test = tf.one_hot(Y_test.astype(np.int32), depth=10)\n"
   ]
  },
  {
   "cell_type": "code",
   "execution_count": 7,
   "id": "1f34ed07",
   "metadata": {},
   "outputs": [],
   "source": [
    "\n",
    "batch_size = 32\n",
    "num_classes = 10\n",
    "epochs = 30\n",
    "\n",
    "\n",
    "model = tf.keras.models.Sequential([\n",
    "    tf.keras.layers.Conv2D(32, 3, padding='same', input_shape=X_train.shape[1:], activation='relu'),\n",
    "    tf.keras.layers.MaxPooling2D(),\n",
    "    tf.keras.layers.Dropout(0.25),\n",
    "\n",
    "    tf.keras.layers.Conv2D(64, 3, padding='same', input_shape=X_train.shape[1:], activation='relu'),\n",
    "    tf.keras.layers.MaxPooling2D(),\n",
    "    tf.keras.layers.Dropout(0.25),\n",
    "\n",
    "\n",
    "    tf.keras.layers.Conv2D(128, 3, padding='same', input_shape=X_train.shape[1:],  activation='relu'),\n",
    "    tf.keras.layers.MaxPooling2D(),\n",
    "    tf.keras.layers.Dropout(0.25),\n",
    "\n",
    "\n",
    "    tf.keras.layers.Flatten(),\n",
    "    tf.keras.layers.Dense(512, activation='relu'),\n",
    "    tf.keras.layers.Dropout(0.3),\n",
    "    tf.keras.layers.Dense(num_classes, activation='softmax'),\n",
    "\n",
    "])\n",
    "\n",
    "model.compile(optimizer=tf.keras.optimizers.RMSprop(learning_rate=0.001),\n",
    "            loss='categorical_crossentropy', metrics=['acc'])"
   ]
  },
  {
   "cell_type": "code",
   "execution_count": 8,
   "id": "2a7dbbdf",
   "metadata": {},
   "outputs": [
    {
     "name": "stdout",
     "output_type": "stream",
     "text": [
      "(639, 32, 32, 3)\n",
      "(639, 10)\n",
      "Epoch 1/30\n",
      "20/20 [==============================] - 1s 23ms/step - loss: 1.8498 - acc: 0.2473\n",
      "Epoch 2/30\n",
      "20/20 [==============================] - 0s 25ms/step - loss: 1.4648 - acc: 0.3412\n",
      "Epoch 3/30\n",
      "20/20 [==============================] - 0s 23ms/step - loss: 1.2639 - acc: 0.4351\n",
      "Epoch 4/30\n",
      "20/20 [==============================] - 1s 29ms/step - loss: 1.1494 - acc: 0.4898\n",
      "Epoch 5/30\n",
      "20/20 [==============================] - 1s 33ms/step - loss: 1.0987 - acc: 0.5180\n",
      "Epoch 6/30\n",
      "20/20 [==============================] - 1s 34ms/step - loss: 1.0460 - acc: 0.5430\n",
      "Epoch 7/30\n",
      "20/20 [==============================] - 1s 28ms/step - loss: 1.0123 - acc: 0.5649\n",
      "Epoch 8/30\n",
      "20/20 [==============================] - 1s 34ms/step - loss: 0.9218 - acc: 0.5962\n",
      "Epoch 9/30\n",
      "20/20 [==============================] - 0s 23ms/step - loss: 0.9607 - acc: 0.5900\n",
      "Epoch 10/30\n",
      "20/20 [==============================] - 1s 28ms/step - loss: 0.9591 - acc: 0.5759\n",
      "Epoch 11/30\n",
      "20/20 [==============================] - 1s 43ms/step - loss: 0.8600 - acc: 0.6369\n",
      "Epoch 12/30\n",
      "20/20 [==============================] - 1s 29ms/step - loss: 0.8338 - acc: 0.6448\n",
      "Epoch 13/30\n",
      "20/20 [==============================] - 0s 21ms/step - loss: 0.8074 - acc: 0.6557\n",
      "Epoch 14/30\n",
      "20/20 [==============================] - 0s 21ms/step - loss: 0.8083 - acc: 0.6651\n",
      "Epoch 15/30\n",
      "20/20 [==============================] - 0s 21ms/step - loss: 0.7165 - acc: 0.6854\n",
      "Epoch 16/30\n",
      "20/20 [==============================] - 0s 21ms/step - loss: 0.7150 - acc: 0.7011\n",
      "Epoch 17/30\n",
      "20/20 [==============================] - 0s 22ms/step - loss: 0.7578 - acc: 0.6776\n",
      "Epoch 18/30\n",
      "20/20 [==============================] - 0s 21ms/step - loss: 0.6390 - acc: 0.7512\n",
      "Epoch 19/30\n",
      "20/20 [==============================] - 0s 23ms/step - loss: 0.6132 - acc: 0.7480\n",
      "Epoch 20/30\n",
      "20/20 [==============================] - 0s 24ms/step - loss: 0.6075 - acc: 0.7574\n",
      "Epoch 21/30\n",
      "20/20 [==============================] - 0s 24ms/step - loss: 0.5210 - acc: 0.7950\n",
      "Epoch 22/30\n",
      "20/20 [==============================] - 0s 20ms/step - loss: 0.5311 - acc: 0.7856\n",
      "Epoch 23/30\n",
      "20/20 [==============================] - 1s 27ms/step - loss: 0.5330 - acc: 0.8028\n",
      "Epoch 24/30\n",
      "20/20 [==============================] - 0s 20ms/step - loss: 0.4689 - acc: 0.8138\n",
      "Epoch 25/30\n",
      "20/20 [==============================] - 0s 22ms/step - loss: 0.4705 - acc: 0.8153\n",
      "Epoch 26/30\n",
      "20/20 [==============================] - 1s 31ms/step - loss: 0.4243 - acc: 0.8419\n",
      "Epoch 27/30\n",
      "20/20 [==============================] - 1s 25ms/step - loss: 0.4405 - acc: 0.8372\n",
      "Epoch 28/30\n",
      "20/20 [==============================] - 0s 21ms/step - loss: 0.3873 - acc: 0.8529\n",
      "Epoch 29/30\n",
      "20/20 [==============================] - 0s 23ms/step - loss: 0.3340 - acc: 0.8811\n",
      "Epoch 30/30\n",
      "20/20 [==============================] - 0s 24ms/step - loss: 0.3175 - acc: 0.8701\n"
     ]
    }
   ],
   "source": [
    "\n",
    "\n",
    "\n",
    "#history = model.fit(X_train, Y_train, batch_size=batch_size,\n",
    "#                epochs=epochs)\n",
    "print(X_train.shape)\n",
    "print(Y_train.shape)\n",
    "history = model.fit(X_train, Y_train,\n",
    "          batch_size=batch_size,\n",
    "          epochs=epochs,\n",
    "          #shuffle=False,\n",
    "          verbose=1)\n",
    "          #validation_data=(X_test, Y_test))"
   ]
  },
  {
   "cell_type": "code",
   "execution_count": 9,
   "id": "66d4b801",
   "metadata": {},
   "outputs": [
    {
     "data": {
      "image/png": "[encoded data removed]",
      "text/plain": [
       "<Figure size 432x288 with 2 Axes>"
      ]
     },
     "metadata": {
      "needs_background": "light"
     },
     "output_type": "display_data"
    }
   ],
   "source": [
    "\n",
    "fig, ax = plt.subplots(2,1)\n",
    "ax[0].plot(history.history['loss'], color='b', label=\"Training Loss\")\n",
    "legend = ax[0].legend(loc='best', shadow=True)\n",
    "ax[1].plot(history.history['acc'], color='b', label=\"Training Accuracy\")\n",
    "legend = ax[1].legend(loc='best', shadow=True)"
   ]
  },
  {
   "cell_type": "code",
   "execution_count": 10,
   "id": "c74df87d",
   "metadata": {},
   "outputs": [
    {
     "name": "stdout",
     "output_type": "stream",
     "text": [
      "Test loss: 0.7877416014671326\n",
      "Test accuracy: 0.6995305418968201\n"
     ]
    }
   ],
   "source": [
    "\n",
    "score = model.evaluate(X_test, Y_test, verbose=0)\n",
    "print('Test loss:', score[0])\n",
    "print('Test accuracy:', score[1])"
   ]
  },
  {
   "cell_type": "code",
   "execution_count": 11,
   "id": "a00d0b8b",
   "metadata": {},
   "outputs": [],
   "source": [
    "#\n",
    "#scores = cross_val_score(model, X_test, Y_test, cv=3, scoring='accuracy')\n",
    "#print('\\nCross-Validation-Score 3-fold')\n",
    "#print(scores)\n",
    "#"
   ]
  },
  {
   "cell_type": "code",
   "execution_count": 12,
   "id": "1ae54e6c",
   "metadata": {},
   "outputs": [
    {
     "name": "stdout",
     "output_type": "stream",
     "text": [
      "Confusion Matrix\n",
      " X-Achse = Predicted Labeles Y-Achse = die wahren Labels \n"
     ]
    },
    {
     "data": {
      "image/png": "[encoded data removed]",
      "text/plain": [
       "<Figure size 864x648 with 2 Axes>"
      ]
     },
     "metadata": {
      "needs_background": "light"
     },
     "output_type": "display_data"
    }
   ],
   "source": [
    "# Predict the values from the validation dataset\n",
    "y_pred = model.predict(X_test, verbose=0)\n",
    "\n",
    "# Convert predictions classes to one hot vectors \n",
    "y_pred_classes = np.argmax(y_pred,axis = 1) \n",
    "# Convert validation observations to one hot vectors\n",
    "\n",
    "y_true = np.argmax(Y_test,axis = 1)\n",
    "# compute the confusion matrix\n",
    "confusion_mtx = tf.math.confusion_matrix(y_true, y_pred_classes)\n",
    "\n",
    "plt.figure(figsize=(12, 9))\n",
    "\n",
    "c = sns.heatmap(confusion_mtx, annot=True, fmt='g', cmap=\"crest\")\n",
    "c.set(xticklabels=breed_list, yticklabels=breed_list)\n",
    "\n",
    "\n",
    "\n",
    "print(\"Confusion Matrix\")\n",
    "print(\" X-Achse = Predicted Labeles Y-Achse = die wahren Labels \")\n"
   ]
  }
 ],
 "metadata": {
  "kernelspec": {
   "display_name": "Python 3.9.13 ('base')",
   "language": "python",
   "name": "python3"
  },
  "language_info": {
   "codemirror_mode": {
    "name": "ipython",
    "version": 3
   },
   "file_extension": ".py",
   "mimetype": "text/x-python",
   "name": "python",
   "nbconvert_exporter": "python",
   "pygments_lexer": "ipython3",
   "version": "3.9.13"
  },
  "vscode": {
   "interpreter": {
    "hash": "7d8cf412c429d163f0ec8962de5d99a5f7520d1b1380235674c38dc96da666cc"
   }
  }
 },
 "nbformat": 4,
 "nbformat_minor": 5
}
