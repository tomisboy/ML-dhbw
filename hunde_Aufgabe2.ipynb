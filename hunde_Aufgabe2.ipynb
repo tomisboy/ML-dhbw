{
 "cells": [
  {
   "cell_type": "code",
   "execution_count": 2,
   "id": "e81bbe56",
   "metadata": {},
   "outputs": [],
   "source": [
    "import os\n",
    "import numpy as np\n",
    "import matplotlib.pyplot as plt\n",
    "from PIL import Image\n",
    "%matplotlib inline\n",
    "import xml.etree.ElementTree as ET\n",
    "import cv2\n",
    "import seaborn as sns\n",
    "from sklearn import utils\n",
    "import tensorflow as tf\n",
    "import warnings\n",
    "warnings.simplefilter(action='ignore', category=FutureWarning)"
   ]
  },
  {
   "cell_type": "code",
   "execution_count": 3,
   "id": "1335edf6",
   "metadata": {},
   "outputs": [],
   "source": [
    "# Merkmalsreduktion\n",
    "# Schneide irrelevante Informationen aus dem Bilder heraus.\n",
    "# Speichere die Merkalsreduzierten Bilder in einen neuen Ordner /data/\n",
    "\n",
    "all_dogs = 0  # Zählvariable der Hundebilder \n",
    "data_dir = os.getcwd() + '\\\\'\n",
    "breed_list = os.listdir(data_dir + 'images\\\\Images\\\\')\n",
    "os.makedirs('data', exist_ok=True)\n",
    "\n",
    "\n",
    "for breed in breed_list:\n",
    "    os.makedirs('data\\\\' + breed, exist_ok=True)\n",
    "for breed in os.listdir('data'):\n",
    "    for file in os.listdir(data_dir + 'annotation\\\\Annotation\\\\' + breed):\n",
    "        img = Image.open(data_dir + 'images\\\\Images\\\\' + breed + '\\\\' + file + '.jpg')\n",
    "        tree = ET.parse(data_dir + 'annotation\\\\Annotation\\\\' + breed + '\\\\' + file)\n",
    "        xmin = int(tree.getroot().findall('object')[0].find('bndbox').find('xmin').text)\n",
    "        xmax = int(tree.getroot().findall('object')[0].find('bndbox').find('xmax').text)\n",
    "        ymin = int(tree.getroot().findall('object')[0].find('bndbox').find('ymin').text)\n",
    "        ymax = int(tree.getroot().findall('object')[0].find('bndbox').find('ymax').text)\n",
    "        img = img.crop((xmin,ymin,xmax,ymax))\n",
    "        img = img.convert('RGB')\n",
    "        img.save('data//' + breed + '/' + file + '.jpg')\n",
    "        all_dogs = all_dogs+1"
   ]
  },
  {
   "cell_type": "code",
   "execution_count": 4,
   "id": "f3571f97",
   "metadata": {},
   "outputs": [],
   "source": [
    "#lese daten  in \"bilder aka imagepath array ein und der dazugehörigen daten aka label_array\"\n",
    "# Speichere die Bilddaten (RGB Werte) in ein array\n",
    "# Speichere die Hunderassen in \n",
    "SCALE = 32 # Setzte Skalierungsfaktor auf welchen die Bilder alle Skaliert werden\n",
    "data_array = []\n",
    "label_array= []\n",
    "breedNum = 0\n",
    "for breed in breed_list:\n",
    "    imagepath=(data_dir + 'data\\\\' + breed )\n",
    "    for img in os.listdir(imagepath):\n",
    "        img_array=cv2.imread(os.path.join(imagepath,img))\n",
    "        #data_array.append(img_array.tolist())\n",
    "        data_array.append(cv2.resize(img_array,(SCALE,SCALE)).tolist())\n",
    "        label_array.append(breedNum) # Setze Hunderasseart auf eine ID\n",
    "    breedNum = breedNum + 1"
   ]
  },
  {
   "cell_type": "code",
   "execution_count": 5,
   "id": "fe751128",
   "metadata": {},
   "outputs": [],
   "source": [
    "# Umbennenen der Hunderassen. (Scheide Ziffern weg) \n",
    "# Zu besseren Darstellung in den Legenden der folgenden Schaubilder\n",
    "for i in range(0, len(breed_list)):\n",
    "    ar = breed_list[i].split('-')\n",
    "    breed_list[i] = ar[1]"
   ]
  },
  {
   "cell_type": "code",
   "execution_count": 6,
   "id": "141e10db",
   "metadata": {},
   "outputs": [],
   "source": [
    "#### Schuffel einschalten###\n",
    "## hier werden nicht mehr die Features wie in Aufgabe 1 sondern die Rohdaten das Bild in sich als Daten genommen\n",
    "\n",
    "label_array, data_array = utils.shuffle(label_array, data_array)\n",
    "# Einteilen der TEST und TRAIN Daten\n",
    "size_of_train= int(all_dogs*0.75)\n",
    "size_of_test = int(all_dogs*0.25)\n",
    "X_train = np.array(data_array[:size_of_train])\n",
    "Y_train = np.array(label_array[:size_of_train])\n",
    "X_test = np.array(data_array[-size_of_test:])\n",
    "Y_test = np.array(label_array[-size_of_test:])"
   ]
  },
  {
   "cell_type": "code",
   "execution_count": 7,
   "id": "0a508558",
   "metadata": {},
   "outputs": [],
   "source": [
    "# Shape die Daten zurecht\n",
    "X_train=X_train.reshape(X_train.shape[0], X_train.shape[1], X_train.shape[2], 3)\n",
    "X_train=X_train / 255.0\n",
    "X_test = X_test.reshape(X_test.shape[0], X_test.shape[1], X_test.shape[2], 3)\n",
    "X_test=X_test / 255.0\n",
    "\n",
    "Y_train = tf.one_hot(Y_train.astype(np.int32), depth=5)\n",
    "Y_test = tf.one_hot(Y_test.astype(np.int32), depth=5)"
   ]
  },
  {
   "cell_type": "code",
   "execution_count": 8,
   "id": "1f34ed07",
   "metadata": {},
   "outputs": [],
   "source": [
    "batch_size = 32\n",
    "num_classes = 5  ## (Anzahl der Hunderassen)\n",
    "epochs = 15\n",
    "\n",
    "## Erstellung des CNNs\n",
    "model = tf.keras.models.Sequential([\n",
    "    tf.keras.layers.Conv2D(32, 3, padding='same', activation='relu'),\n",
    "    tf.keras.layers.MaxPooling2D(),\n",
    "    tf.keras.layers.Dropout(0.3),\n",
    "\n",
    "    tf.keras.layers.Conv2D(64, 3, padding='same', activation='relu'),\n",
    "    tf.keras.layers.MaxPooling2D(),\n",
    "    tf.keras.layers.Dropout(0.30),\n",
    "\n",
    "    tf.keras.layers.Conv2D(128, 3, padding='same', activation='relu'),\n",
    "    tf.keras.layers.MaxPooling2D(),\n",
    "    tf.keras.layers.Dropout(0.30),\n",
    "\n",
    "\n",
    "    tf.keras.layers.Flatten(),\n",
    "    tf.keras.layers.Dense(512, activation='relu'),\n",
    "    tf.keras.layers.Dropout(0.3),\n",
    "    tf.keras.layers.Dense(num_classes, activation='softmax'),\n",
    "\n",
    "    \n",
    " ])\n",
    "model.compile(optimizer=\"adam\",\n",
    "            loss='categorical_crossentropy', metrics=['acc'])\n",
    "\n",
    "#model.summary()"
   ]
  },
  {
   "cell_type": "code",
   "execution_count": 9,
   "id": "2a7dbbdf",
   "metadata": {},
   "outputs": [
    {
     "name": "stdout",
     "output_type": "stream",
     "text": [
      "Epoch 1/15\n",
      "20/20 [==============================] - 1s 24ms/step - loss: 1.6693 - acc: 0.2504\n",
      "Epoch 2/15\n",
      "20/20 [==============================] - 0s 22ms/step - loss: 1.4812 - acc: 0.3146\n",
      "Epoch 3/15\n",
      "20/20 [==============================] - 1s 24ms/step - loss: 1.2248 - acc: 0.4397\n",
      "Epoch 4/15\n",
      "20/20 [==============================] - 0s 20ms/step - loss: 0.9666 - acc: 0.5837\n",
      "Epoch 5/15\n",
      "20/20 [==============================] - 0s 19ms/step - loss: 0.8124 - acc: 0.6541\n",
      "Epoch 6/15\n",
      "20/20 [==============================] - 0s 18ms/step - loss: 0.7651 - acc: 0.6823\n",
      "Epoch 7/15\n",
      "20/20 [==============================] - 0s 22ms/step - loss: 0.6728 - acc: 0.7261\n",
      "Epoch 8/15\n",
      "20/20 [==============================] - 0s 21ms/step - loss: 0.6218 - acc: 0.7637\n",
      "Epoch 9/15\n",
      "20/20 [==============================] - 0s 22ms/step - loss: 0.5726 - acc: 0.7762\n",
      "Epoch 10/15\n",
      "20/20 [==============================] - 0s 19ms/step - loss: 0.5585 - acc: 0.7653\n",
      "Epoch 11/15\n",
      "20/20 [==============================] - 0s 20ms/step - loss: 0.5413 - acc: 0.7746\n",
      "Epoch 12/15\n",
      "20/20 [==============================] - 0s 21ms/step - loss: 0.4968 - acc: 0.8075\n",
      "Epoch 13/15\n",
      "20/20 [==============================] - 0s 20ms/step - loss: 0.4549 - acc: 0.8185\n",
      "Epoch 14/15\n",
      "20/20 [==============================] - 0s 22ms/step - loss: 0.4474 - acc: 0.8200\n",
      "Epoch 15/15\n",
      "20/20 [==============================] - 0s 21ms/step - loss: 0.4229 - acc: 0.8357\n"
     ]
    }
   ],
   "source": [
    "history =model.fit(X_train, Y_train,\n",
    "          batch_size=batch_size,\n",
    "          epochs=epochs)"
   ]
  },
  {
   "cell_type": "code",
   "execution_count": 10,
   "id": "66d4b801",
   "metadata": {},
   "outputs": [
    {
     "data": {
      "text/plain": [
       "Text(0.5, 0.98, 'Verlauf der Training Loss und Accuracy über 15 Epochen')"
      ]
     },
     "execution_count": 10,
     "metadata": {},
     "output_type": "execute_result"
    },
    {
     "data": {
      "image/png": "[encoded data removed]",
      "text/plain": [
       "<Figure size 1440x504 with 2 Axes>"
      ]
     },
     "metadata": {
      "needs_background": "light"
     },
     "output_type": "display_data"
    }
   ],
   "source": [
    "fig, ax = plt.subplots(2,1, figsize=(20, 7))\n",
    "ax[0].plot(history.history['loss'], color='b', label=\"Training Loss\")\n",
    "legend = ax[0].legend(loc='best', shadow=True)\n",
    "ax[1].plot(history.history['acc'], color='b', label=\"Training Accuracy\")\n",
    "legend = ax[1].legend(loc='best', shadow=True)\n",
    "fig.suptitle(\"Verlauf der Training Loss und Accuracy über \" +str(epochs) + \" Epochen\" )"
   ]
  },
  {
   "cell_type": "code",
   "execution_count": 11,
   "id": "89be5dd3",
   "metadata": {},
   "outputs": [
    {
     "name": "stdout",
     "output_type": "stream",
     "text": [
      "Test loss: 0.5091605186462402\n",
      "Test accuracy: 0.8075117468833923\n"
     ]
    }
   ],
   "source": [
    "## Evalierungstest des CNN mit den TEST Daten\n",
    "score = model.evaluate(X_test, Y_test, verbose=0)\n",
    "print('Test loss:', score[0])\n",
    "print('Test accuracy:', score[1])"
   ]
  },
  {
   "cell_type": "code",
   "execution_count": 12,
   "id": "17cbbf8d",
   "metadata": {},
   "outputs": [
    {
     "name": "stdout",
     "output_type": "stream",
     "text": [
      "7/7 [==============================] - 0s 5ms/step - loss: 0.5871 - acc: 0.8028\n",
      "0.8028169274330139\n",
      "7/7 [==============================] - 0s 5ms/step - loss: 0.4889 - acc: 0.8498\n",
      "0.8497652411460876\n",
      "7/7 [==============================] - 0s 7ms/step - loss: 0.5229 - acc: 0.8498\n",
      "0.8497652411460876\n",
      "\n",
      "Durchschnittsgenauigkeit nach 3-Fold-Validierung: 0.8341158032417297\n"
     ]
    }
   ],
   "source": [
    "# Führe die Kreuzvalidierung durch\n",
    "from sklearn.model_selection import KFold\n",
    "\n",
    "# Definiere die Anzahl der Folds\n",
    "num_folds = 3\n",
    "\n",
    "# Erstelle ein int, um die Genauigkeit für jeden Fold zu speichern\n",
    "acc =0\n",
    "\n",
    "# Teile das Modell in Folds auf\n",
    "folds = KFold(n_splits=num_folds, shuffle=True)\n",
    "\n",
    "x_data = X_train\n",
    "y_data = X_train\n",
    "\n",
    "# Führe die Kreuzvalidierung durch\n",
    "for train_index, test_index in folds.split(X_train):\n",
    "    train_index = train_index.flatten()\n",
    "    test_index = test_index.flatten()\n",
    "\n",
    "    # Verwende die Indizes, um die Trainings- und Testdaten aufzuteilen\n",
    "    x_train, x_test = X_train[train_index], X_train[test_index]\n",
    "    y_train, y_test = y_data[train_index], y_data[test_index]\n",
    "\n",
    "\n",
    "    model.fit(X_train, Y_train, epochs=3, verbose=0)\n",
    "    accuracy = model.evaluate(X_test, Y_test)\n",
    "    print(accuracy[1])\n",
    "    acc = acc +accuracy[1]\n",
    "# Berechne die Durchschnittsgenauigkeit\n",
    "print(\"\\nDurchschnittsgenauigkeit nach \"+str(num_folds)+\"-Fold-Validierung:\", (acc / num_folds))"
   ]
  },
  {
   "cell_type": "code",
   "execution_count": 13,
   "id": "1ae54e6c",
   "metadata": {},
   "outputs": [
    {
     "name": "stdout",
     "output_type": "stream",
     "text": [
      "X-Achse = Predicted Labeles \n",
      "Y-Achse = die echten Labels \n"
     ]
    },
    {
     "data": {
      "image/png": "[encoded data removed]",
      "text/plain": [
       "<Figure size 864x648 with 2 Axes>"
      ]
     },
     "metadata": {
      "needs_background": "light"
     },
     "output_type": "display_data"
    }
   ],
   "source": [
    "# Predict the values from the validation dataset\n",
    "y_pred = model.predict(X_test,verbose=0)\n",
    "\n",
    "# Convert predictions classes to one hot vectors \n",
    "y_pred_classes = np.argmax(y_pred,axis = 1) \n",
    "# Convert validation observations to one hot vectors\n",
    "\n",
    "y_true = np.argmax(Y_test,axis = 1)\n",
    "# compute the confusion matrix\n",
    "confusion_mtx = tf.math.confusion_matrix(y_true, y_pred_classes)\n",
    "\n",
    "plt.figure(figsize=(12, 9))\n",
    "c = sns.heatmap(confusion_mtx, annot=True, fmt='g', cmap=\"crest\")\n",
    "c.set(xticklabels=breed_list, yticklabels=breed_list)\n",
    "c.set_title(\"Confusion matrix for CNN (Anzahl der Treffer)\") \n",
    "print(\"X-Achse = Predicted Labeles \\nY-Achse = die echten Labels \")"
   ]
  }
 ],
 "metadata": {
  "kernelspec": {
   "display_name": "Python 3.9.13 ('base')",
   "language": "python",
   "name": "python3"
  },
  "language_info": {
   "codemirror_mode": {
    "name": "ipython",
    "version": 3
   },
   "file_extension": ".py",
   "mimetype": "text/x-python",
   "name": "python",
   "nbconvert_exporter": "python",
   "pygments_lexer": "ipython3",
   "version": "3.9.13"
  },
  "vscode": {
   "interpreter": {
    "hash": "7d8cf412c429d163f0ec8962de5d99a5f7520d1b1380235674c38dc96da666cc"
   }
  }
 },
 "nbformat": 4,
 "nbformat_minor": 5
}
