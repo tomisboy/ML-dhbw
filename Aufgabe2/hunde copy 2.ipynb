{
 "cells": [
  {
   "cell_type": "code",
   "execution_count": null,
   "id": "e81bbe56",
   "metadata": {},
   "outputs": [],
   "source": [
    "import os\n",
    "import numpy as np\n",
    "import matplotlib.pyplot as plt\n",
    "from PIL import Image\n",
    "%matplotlib inline\n",
    "import xml.etree.ElementTree as ET\n",
    "import cv2\n",
    "import seaborn as sns\n",
    "from sklearn.preprocessing import MinMaxScaler\n",
    "from sklearn.svm import SVC\n",
    "from sklearn.metrics import plot_confusion_matrix, accuracy_score\n",
    "\n",
    "from mlxtend.plotting import plot_decision_regions\n",
    "## pip install mlxtend\n",
    "from sklearn.model_selection import cross_val_score\n",
    "from sklearn import utils\n",
    "\n",
    "import tensorflow as tf\n",
    "from keras.layers import Dense\n",
    "from keras.layers import Dropout\n",
    "from keras import regularizers\n",
    "\n",
    "\n",
    "from keras.layers import Conv2D, MaxPooling2D, GlobalAveragePooling2D\n",
    "from keras.layers import Dropout, Activation, Dense\n",
    "from keras.models import Sequential\n",
    "\n",
    "from sklearn.model_selection import train_test_split\n",
    "\n",
    "\n",
    "\n",
    "import warnings\n",
    "warnings.simplefilter(action='ignore', category=FutureWarning)\n",
    "\n"
   ]
  },
  {
   "cell_type": "code",
   "execution_count": null,
   "id": "1335edf6",
   "metadata": {},
   "outputs": [],
   "source": [
    "# Merkmalsreduktion\n",
    "# Schneide irrelevante Informationen aus dem Bilder heraus.\n",
    "# Speichere die Merkalsreduzierten Bilder in einen neuen Ordner /data/\n",
    "\n",
    "all_dogs = 0  # Zählvariable der Hundebilder \n",
    "data_dir = os.getcwd() + '\\\\'\n",
    "breed_list = os.listdir(data_dir + 'images\\\\Images\\\\')\n",
    "os.makedirs('data', exist_ok=True)\n",
    "\n",
    "\n",
    "for breed in breed_list:\n",
    "    os.makedirs('data\\\\' + breed, exist_ok=True)\n",
    "for breed in os.listdir('data'):\n",
    "    for file in os.listdir(data_dir + 'annotation\\\\Annotation\\\\' + breed):\n",
    "        img = Image.open(data_dir + 'images\\\\Images\\\\' + breed + '\\\\' + file + '.jpg')\n",
    "        tree = ET.parse(data_dir + 'annotation\\\\Annotation\\\\' + breed + '\\\\' + file)\n",
    "        xmin = int(tree.getroot().findall('object')[0].find('bndbox').find('xmin').text)\n",
    "        xmax = int(tree.getroot().findall('object')[0].find('bndbox').find('xmax').text)\n",
    "        ymin = int(tree.getroot().findall('object')[0].find('bndbox').find('ymin').text)\n",
    "        ymax = int(tree.getroot().findall('object')[0].find('bndbox').find('ymax').text)\n",
    "        img = img.crop((xmin,ymin,xmax,ymax))\n",
    "        img = img.convert('RGB')\n",
    "        img.save('data//' + breed + '/' + file + '.jpg')\n",
    "        all_dogs = all_dogs+1"
   ]
  },
  {
   "cell_type": "code",
   "execution_count": null,
   "id": "f3571f97",
   "metadata": {},
   "outputs": [],
   "source": [
    "#lese daten  in \"bilder aka imagepath array ein und der dazugehörigen daten aka label_array\"\n",
    "# Speichere die Bilddaten (RGB Werte) in ein array\n",
    "# Speichere die Hunderassen in \n",
    "SCALE = 32 # Setzte Skalierungsfaktor auf welchen die Bilder alle Skaliert werden\n",
    "data_array = []\n",
    "label_array= []\n",
    "breedNum = 0\n",
    "for breed in breed_list:\n",
    "    imagepath=(data_dir + 'data\\\\' + breed )\n",
    "    for img in os.listdir(imagepath):\n",
    "        img_array=cv2.imread(os.path.join(imagepath,img))\n",
    "        #data_array.append(img_array.tolist())\n",
    "        data_array.append(cv2.resize(img_array,(SCALE,SCALE)).tolist())\n",
    "        label_array.append(breedNum) # Setze Hunderasseart auf eine ID\n",
    "    breedNum = breedNum + 1"
   ]
  },
  {
   "cell_type": "code",
   "execution_count": null,
   "id": "47b58049",
   "metadata": {},
   "outputs": [],
   "source": [
    "#reshape und skaliere alle Bilder\n",
    "data_array = np.array(data_array)\n",
    "data_array = data_array.reshape(len(data_array), 3, SCALE, SCALE).transpose(0,2,3,1)"
   ]
  },
  {
   "cell_type": "code",
   "execution_count": null,
   "id": "5d184d5a",
   "metadata": {},
   "outputs": [],
   "source": [
    "# Feature Extraktion \n",
    "data_features = []\n",
    "for i in range(0, all_dogs):\n",
    "    img = data_array[i]\n",
    "    features = np.array([None] * 2)\n",
    "    features[0] = np.mean(img[:, :, 0]) # Extrahiere average HUE Wert\n",
    "    features[1] = np.mean(img[:, :, 1]) # Extrahiere Saturations Wert\n",
    "    data_features.append(features.tolist()) \n",
    "\n",
    "# Mit dem MinMaxScaler verschlechtert sich die Model accuracy oder sie wird nur geringfügig verbessert\n",
    "#scaler = MinMaxScaler() # normalisiert die Werte\n",
    "#scaler.fit(data_features)"
   ]
  },
  {
   "cell_type": "code",
   "execution_count": null,
   "id": "9bad15d2",
   "metadata": {},
   "outputs": [],
   "source": [
    "\n",
    "#### Schuffel einschalten###\n",
    "label_array, data_features = utils.shuffle(label_array, data_features)\n",
    "\n",
    "# Einteilen der TEST und TRAIN Daten\n",
    "size_of_train= int(all_dogs*0.75)\n",
    "size_of_test = int(all_dogs*0.25)\n",
    "\n",
    "X_train_features = data_features[:size_of_train]\n",
    "X_test_features = data_features[-size_of_test:]\n",
    "\n",
    "Y_train_features = label_array[:size_of_train]\n",
    "Y_test_features = label_array[-size_of_test:]"
   ]
  },
  {
   "cell_type": "code",
   "execution_count": null,
   "id": "7eed98a0",
   "metadata": {},
   "outputs": [],
   "source": [
    "# Umbennenen der Hunderassen. (Scheide Ziffern weg) \n",
    "# Zu besseren Darstellung in den Legenden der folgenden Schaubilder\n",
    "for i in range(0, len(breed_list)):\n",
    "    ar = breed_list[i].split('-')\n",
    "    breed_list[i] = ar[1]"
   ]
  },
  {
   "cell_type": "code",
   "execution_count": null,
   "id": "ae0f9d97",
   "metadata": {},
   "outputs": [],
   "source": [
    "# Create the SVM\n",
    "svm = SVC(kernel='rbf', gamma='scale')\n",
    "\n",
    "# Fit the data to the SVM classifier\n",
    "svm = svm.fit(X_train_features, Y_train_features)\n",
    "\n",
    "# Generate predictions\n",
    "y_pred = svm.predict(X_test_features)\n",
    "\n",
    "# Evaluate by means of accuracy\n",
    "accuracy = accuracy_score(Y_test_features, y_pred)\n",
    "print(f'Model accuracy: {accuracy}')\n",
    "\n",
    "vscores = cross_val_score(svm, X_test_features, Y_test_features, cv=3)\n",
    "print('\\nCross-Validation-Score 3-fold')\n",
    "print(vscores)"
   ]
  },
  {
   "cell_type": "code",
   "execution_count": null,
   "id": "c1a4e6f3",
   "metadata": {},
   "outputs": [],
   "source": [
    "# Evaluate by means of a confusion matrix\n",
    "matrix = plot_confusion_matrix(svm, X_test_features, Y_test_features,\n",
    "                                 normalize='true',\n",
    "                                 display_labels= breed_list\n",
    "                                 )\n",
    "plt.title('Confusion matrix for RBF SVM')\n",
    "plt.xticks(rotation=90)\n",
    "\n",
    "plt.show(matrix)\n",
    "plt.show()\n"
   ]
  },
  {
   "cell_type": "code",
   "execution_count": 10,
   "id": "6572c812",
   "metadata": {},
   "outputs": [
    {
     "data": {
      "image/png": "[encoded data removed]",
      "text/plain": [
       "<Figure size 432x288 with 1 Axes>"
      ]
     },
     "metadata": {
      "needs_background": "light"
     },
     "output_type": "display_data"
    }
   ],
   "source": [
    "# Plot decision boundary\n",
    "print('Decision boundary:')\n",
    "ax = plot_decision_regions(np.array(X_test_features), np.array(Y_test_features), clf=svm, markers= \"s^oX<\")\n",
    "\n",
    "handles, labels = ax.get_legend_handles_labels()\n",
    "ax.legend(handles, \n",
    "          breed_list, \n",
    "          framealpha=0.5, \n",
    "          scatterpoints=1)\n",
    "\n",
    "plt.title('Decision boundary')\n",
    "plt.show()"
   ]
  },
  {
   "cell_type": "code",
   "execution_count": 11,
   "id": "141e10db",
   "metadata": {},
   "outputs": [],
   "source": [
    "\n",
    "#### Schuffel einschalten###\n",
    "label_array, data_array = utils.shuffle(label_array, data_array)\n",
    "\n",
    "# Einteilen der TEST und TRAIN Daten\n",
    "size_of_train= int(all_dogs*0.75)\n",
    "size_of_test = int(all_dogs*0.25)\n",
    "X_train = np.array(data_array[:size_of_train])\n",
    "Y_train = np.array(label_array[:size_of_train])\n",
    "\n",
    "X_test = np.array(data_array[-size_of_test:])\n",
    "Y_test = np.array(label_array[-size_of_test:])\n",
    "\n"
   ]
  },
  {
   "cell_type": "code",
   "execution_count": 12,
   "id": "0a508558",
   "metadata": {},
   "outputs": [],
   "source": [
    "input_shape = (SCALE, SCALE, 3)\n",
    "\n",
    "\n",
    "X_train=X_train.reshape(X_train.shape[0], X_train.shape[1], X_train.shape[2], 3)\n",
    "X_train=X_train / 255.0\n",
    "\n",
    "X_test = X_test.reshape(X_test.shape[0], X_test.shape[1], X_test.shape[2], 3)\n",
    "X_test=X_test / 255.0\n",
    "\n",
    "\n",
    "Y_train = tf.one_hot(Y_train.astype(np.int32), depth=10)\n",
    "Y_test = tf.one_hot(Y_test.astype(np.int32), depth=10)\n"
   ]
  },
  {
   "cell_type": "code",
   "execution_count": 13,
   "id": "1f34ed07",
   "metadata": {},
   "outputs": [],
   "source": [
    "batch_size = 32\n",
    "num_classes = 10  ##(x * Hunderasse)\n",
    "epochs = 50\n",
    "\n",
    "\n",
    "model = tf.keras.models.Sequential([\n",
    "    tf.keras.layers.Conv2D(32, 3, padding='same', input_shape=X_train.shape[1:], activation='relu'),\n",
    "    #tf.keras.layers.Conv2D(32, 3, activation='relu'),\n",
    "    tf.keras.layers.MaxPooling2D(),\n",
    "    tf.keras.layers.Dropout(0.3),\n",
    "\n",
    "\n",
    "    tf.keras.layers.Conv2D(64, 3, padding='same', activation='relu'),\n",
    "    #tf.keras.layers.Conv2D(64, 3, activation='relu'),\n",
    "    tf.keras.layers.MaxPooling2D(),\n",
    "    tf.keras.layers.Dropout(0.30),\n",
    "\n",
    "\n",
    "    tf.keras.layers.Conv2D(128, 3, padding='same', activation='relu'),\n",
    "    #tf.keras.layers.Conv2D(64, 3, activation='relu'),\n",
    "    tf.keras.layers.MaxPooling2D(),\n",
    "    tf.keras.layers.Dropout(0.30),\n",
    "\n",
    "\n",
    "    tf.keras.layers.Flatten(),\n",
    "    tf.keras.layers.Dense(512, activation='relu'),\n",
    "    tf.keras.layers.Dropout(0.3),\n",
    "    tf.keras.layers.Dense(num_classes, activation='softmax'),\n",
    "\n",
    "    \n",
    " ])\n",
    "#model.summary()\n",
    "model.compile(optimizer=\"adam\",\n",
    "            loss='categorical_crossentropy', metrics=['acc'])"
   ]
  },
  {
   "cell_type": "code",
   "execution_count": 14,
   "id": "2a7dbbdf",
   "metadata": {},
   "outputs": [
    {
     "name": "stdout",
     "output_type": "stream",
     "text": [
      "Epoch 1/50\n",
      "20/20 [==============================] - 1s 21ms/step - loss: 1.7462 - acc: 0.2160\n",
      "Epoch 2/50\n",
      "20/20 [==============================] - 0s 21ms/step - loss: 1.6664 - acc: 0.2300\n",
      "Epoch 3/50\n",
      "20/20 [==============================] - 1s 27ms/step - loss: 1.6470 - acc: 0.2285\n",
      "Epoch 4/50\n",
      "20/20 [==============================] - 0s 24ms/step - loss: 1.6255 - acc: 0.2363\n",
      "Epoch 5/50\n",
      "20/20 [==============================] - 0s 21ms/step - loss: 1.6151 - acc: 0.2520\n",
      "Epoch 6/50\n",
      "20/20 [==============================] - 0s 21ms/step - loss: 1.6134 - acc: 0.2363\n",
      "Epoch 7/50\n",
      "20/20 [==============================] - 0s 21ms/step - loss: 1.6173 - acc: 0.2113\n",
      "Epoch 8/50\n",
      "20/20 [==============================] - 0s 21ms/step - loss: 1.6058 - acc: 0.2332\n",
      "Epoch 9/50\n",
      "20/20 [==============================] - 0s 22ms/step - loss: 1.5991 - acc: 0.2300\n",
      "Epoch 10/50\n",
      "20/20 [==============================] - 0s 25ms/step - loss: 1.6005 - acc: 0.2285\n",
      "Epoch 11/50\n",
      "20/20 [==============================] - 0s 22ms/step - loss: 1.5835 - acc: 0.2754\n",
      "Epoch 12/50\n",
      "20/20 [==============================] - 0s 21ms/step - loss: 1.5791 - acc: 0.2770\n",
      "Epoch 13/50\n",
      "20/20 [==============================] - 0s 22ms/step - loss: 1.5738 - acc: 0.2613\n",
      "Epoch 14/50\n",
      "20/20 [==============================] - 0s 22ms/step - loss: 1.5694 - acc: 0.2692\n",
      "Epoch 15/50\n",
      "20/20 [==============================] - 0s 22ms/step - loss: 1.5526 - acc: 0.2911\n",
      "Epoch 16/50\n",
      "20/20 [==============================] - 0s 21ms/step - loss: 1.5573 - acc: 0.2958\n",
      "Epoch 17/50\n",
      "20/20 [==============================] - 0s 22ms/step - loss: 1.5254 - acc: 0.3318\n",
      "Epoch 18/50\n",
      "20/20 [==============================] - 0s 24ms/step - loss: 1.5037 - acc: 0.3615\n",
      "Epoch 19/50\n",
      "20/20 [==============================] - 0s 24ms/step - loss: 1.4994 - acc: 0.3459\n",
      "Epoch 20/50\n",
      "20/20 [==============================] - 0s 22ms/step - loss: 1.4978 - acc: 0.3568\n",
      "Epoch 21/50\n",
      "20/20 [==============================] - 0s 22ms/step - loss: 1.4580 - acc: 0.3662\n",
      "Epoch 22/50\n",
      "20/20 [==============================] - 0s 22ms/step - loss: 1.4174 - acc: 0.3912\n",
      "Epoch 23/50\n",
      "20/20 [==============================] - 1s 31ms/step - loss: 1.3812 - acc: 0.4460\n",
      "Epoch 24/50\n",
      "20/20 [==============================] - 1s 26ms/step - loss: 1.3894 - acc: 0.4053\n",
      "Epoch 25/50\n",
      "20/20 [==============================] - 1s 27ms/step - loss: 1.3139 - acc: 0.4773\n",
      "Epoch 26/50\n",
      "20/20 [==============================] - 1s 31ms/step - loss: 1.2739 - acc: 0.4617\n",
      "Epoch 27/50\n",
      "20/20 [==============================] - 0s 21ms/step - loss: 1.2274 - acc: 0.4851\n",
      "Epoch 28/50\n",
      "20/20 [==============================] - 0s 21ms/step - loss: 1.1968 - acc: 0.5039\n",
      "Epoch 29/50\n",
      "20/20 [==============================] - 0s 20ms/step - loss: 1.1445 - acc: 0.5399\n",
      "Epoch 30/50\n",
      "20/20 [==============================] - 0s 25ms/step - loss: 1.0700 - acc: 0.5931\n",
      "Epoch 31/50\n",
      "20/20 [==============================] - 1s 27ms/step - loss: 0.9957 - acc: 0.6369\n",
      "Epoch 32/50\n",
      "20/20 [==============================] - 1s 29ms/step - loss: 1.0078 - acc: 0.6009\n",
      "Epoch 33/50\n",
      "20/20 [==============================] - 0s 22ms/step - loss: 0.9901 - acc: 0.6182\n",
      "Epoch 34/50\n",
      "20/20 [==============================] - 0s 21ms/step - loss: 0.9390 - acc: 0.6479\n",
      "Epoch 35/50\n",
      "20/20 [==============================] - 0s 20ms/step - loss: 0.8954 - acc: 0.6651\n",
      "Epoch 36/50\n",
      "20/20 [==============================] - 1s 26ms/step - loss: 0.8220 - acc: 0.6667\n",
      "Epoch 37/50\n",
      "20/20 [==============================] - 0s 23ms/step - loss: 0.8234 - acc: 0.6761\n",
      "Epoch 38/50\n",
      "20/20 [==============================] - 0s 21ms/step - loss: 0.7555 - acc: 0.7199\n",
      "Epoch 39/50\n",
      "20/20 [==============================] - 0s 22ms/step - loss: 0.7060 - acc: 0.7340\n",
      "Epoch 40/50\n",
      "20/20 [==============================] - 0s 21ms/step - loss: 0.6695 - acc: 0.7480\n",
      "Epoch 41/50\n",
      "20/20 [==============================] - 0s 21ms/step - loss: 0.5848 - acc: 0.7793\n",
      "Epoch 42/50\n",
      "20/20 [==============================] - 0s 21ms/step - loss: 0.6286 - acc: 0.7825\n",
      "Epoch 43/50\n",
      "20/20 [==============================] - 0s 23ms/step - loss: 0.5105 - acc: 0.8200\n",
      "Epoch 44/50\n",
      "20/20 [==============================] - 0s 22ms/step - loss: 0.5520 - acc: 0.7997\n",
      "Epoch 45/50\n",
      "20/20 [==============================] - 0s 21ms/step - loss: 0.4750 - acc: 0.8310\n",
      "Epoch 46/50\n",
      "20/20 [==============================] - 0s 22ms/step - loss: 0.4479 - acc: 0.8294\n",
      "Epoch 47/50\n",
      "20/20 [==============================] - 0s 21ms/step - loss: 0.4193 - acc: 0.8545\n",
      "Epoch 48/50\n",
      "20/20 [==============================] - 0s 22ms/step - loss: 0.4755 - acc: 0.8232\n",
      "Epoch 49/50\n",
      "20/20 [==============================] - 0s 21ms/step - loss: 0.3822 - acc: 0.8717\n",
      "Epoch 50/50\n",
      "20/20 [==============================] - 1s 23ms/step - loss: 0.3888 - acc: 0.8576\n"
     ]
    }
   ],
   "source": [
    "#history = model.fit(X_train, Y_train, batch_size=batch_size,\n",
    "#                epochs=epochs)\n",
    "\n",
    "history = model.fit(X_train, Y_train,\n",
    "          batch_size=batch_size,\n",
    "          epochs=epochs,\n",
    "          #shuffle=True,\n",
    "          verbose=1)"
   ]
  },
  {
   "cell_type": "code",
   "execution_count": 15,
   "id": "66d4b801",
   "metadata": {},
   "outputs": [
    {
     "data": {
      "image/png": "[encoded data removed]",
      "text/plain": [
       "<Figure size 432x288 with 2 Axes>"
      ]
     },
     "metadata": {
      "needs_background": "light"
     },
     "output_type": "display_data"
    }
   ],
   "source": [
    "fig, ax = plt.subplots(2,1)\n",
    "ax[0].plot(history.history['loss'], color='b', label=\"Training Loss\")\n",
    "legend = ax[0].legend(loc='best', shadow=True)\n",
    "ax[1].plot(history.history['acc'], color='b', label=\"Training Accuracy\")\n",
    "legend = ax[1].legend(loc='best', shadow=True)"
   ]
  },
  {
   "cell_type": "code",
   "execution_count": 16,
   "id": "c74df87d",
   "metadata": {},
   "outputs": [
    {
     "name": "stdout",
     "output_type": "stream",
     "text": [
      "7/7 - 0s - loss: 3.3427 - acc: 0.2300 - 289ms/epoch - 41ms/step\n",
      "Test loss: 3.3426806926727295\n",
      "Test accuracy: 0.23004694283008575\n"
     ]
    }
   ],
   "source": [
    "score = model.evaluate(X_test, Y_test, verbose=2)\n",
    "print('Test loss:', score[0])\n",
    "print('Test accuracy:', score[1])"
   ]
  },
  {
   "cell_type": "code",
   "execution_count": 33,
   "id": "1ae54e6c",
   "metadata": {},
   "outputs": [
    {
     "data": {
      "text/plain": [
       "[[Text(0.5, 0, 'Norwegian_elkhound'),\n",
       "  Text(1.5, 0, 'Sealyham_terrier'),\n",
       "  Text(2.5, 0, 'vizsla'),\n",
       "  Text(3.5, 0, 'Irish_water_spaniel'),\n",
       "  Text(4.5, 0, 'groenendael')],\n",
       " [Text(0, 0.5, 'Norwegian_elkhound'),\n",
       "  Text(0, 1.5, 'Sealyham_terrier'),\n",
       "  Text(0, 2.5, 'vizsla'),\n",
       "  Text(0, 3.5, 'Irish_water_spaniel'),\n",
       "  Text(0, 4.5, 'groenendael')]]"
      ]
     },
     "execution_count": 33,
     "metadata": {},
     "output_type": "execute_result"
    },
    {
     "data": {
      "image/png": "[encoded data removed]",
      "text/plain": [
       "<Figure size 864x648 with 2 Axes>"
      ]
     },
     "metadata": {
      "needs_background": "light"
     },
     "output_type": "display_data"
    }
   ],
   "source": [
    "# Predict the values from the validation dataset\n",
    "\n",
    "\n",
    "y_pred = model.predict(X_test, verbose=0)\n",
    "\n",
    "# Convert predictions classes to one hot vectors \n",
    "y_pred_classes = np.argmax(y_pred,axis = 1) \n",
    "# Convert validation observations to one hot vectors\n",
    "\n",
    "y_true = np.argmax(Y_test,axis = 1)\n",
    "# compute the confusion matrix\n",
    "confusion_mtx = tf.math.confusion_matrix(y_true, y_pred_classes)\n",
    "\n",
    "plt.figure(figsize=(12, 9))\n",
    "c = sns.heatmap(confusion_mtx, annot=True, fmt='g', cmap=\"crest\")\n",
    "c.set(xticklabels=breed_list, yticklabels=breed_list)\n"
   ]
  }
 ],
 "metadata": {
  "kernelspec": {
   "display_name": "Python 3.9.13 ('base')",
   "language": "python",
   "name": "python3"
  },
  "language_info": {
   "codemirror_mode": {
    "name": "ipython",
    "version": 3
   },
   "file_extension": ".py",
   "mimetype": "text/x-python",
   "name": "python",
   "nbconvert_exporter": "python",
   "pygments_lexer": "ipython3",
   "version": "3.9.13"
  },
  "vscode": {
   "interpreter": {
    "hash": "4036ebdfe66f5e339f6c1d57c8a2cf79c14af795be79ebb6967fb2343c4ad382"
   }
  }
 },
 "nbformat": 4,
 "nbformat_minor": 5
}
