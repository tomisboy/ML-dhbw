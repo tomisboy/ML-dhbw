{
 "cells": [
  {
   "cell_type": "markdown",
   "metadata": {},
   "source": [
    "# Gruppe 6 - Abgabe 1 & 2"
   ]
  },
  {
   "cell_type": "code",
   "execution_count": null,
   "metadata": {},
   "outputs": [
    {
     "ename": "",
     "evalue": "",
     "output_type": "error",
     "traceback": [
      "\u001b[1;31mDer Kernel konnte nicht gestartet werden. \n",
      "\u001b[1;31mFehler beim Starten des Kernels „Python 3.9.0 64-bit“. \n",
      "\u001b[1;31mWeitere Details finden Sie im Jupyter-<a href='command:jupyter.viewOutput'>Protokoll</a>. Canceled future for execute_request message before replies were done"
     ]
    }
   ],
   "source": [
    "import pandas as pd\n",
    "import numpy as np\n",
    "import pickle as pickle\n",
    "import matplotlib.pyplot as plt\n",
    "import seaborn as sns\n",
    "import tensorflow as tf\n",
    "import seaborn as sns\n",
    "import numpy as np\n",
    "import matplotlib.pyplot as plt\n",
    "from sklearn.metrics import confusion_matrix\n",
    "from sklearn import utils\n",
    "from sklearn.svm import SVC\n",
    "from sklearn.metrics import accuracy_score\n",
    "from sklearn.model_selection import cross_val_score\n",
    "from skimage.filters import threshold_mean\n",
    "from skimage.feature import hog\n",
    "from sklearn.decomposition import PCA\n",
    "from skimage.color import rgb2gray\n",
    "from skimage.filters.rank import entropy\n",
    "from skimage.morphology import disk\n",
    "from skimage import img_as_ubyte\n"
   ]
  },
  {
   "cell_type": "code",
   "execution_count": null,
   "metadata": {},
   "outputs": [
    {
     "ename": "",
     "evalue": "",
     "output_type": "error",
     "traceback": [
      "\u001b[1;31mDer Kernel konnte nicht gestartet werden. \n",
      "\u001b[1;31mFehler beim Starten des Kernels „Python 3.9.0 64-bit“. \n",
      "\u001b[1;31mWeitere Details finden Sie im Jupyter-<a href='command:jupyter.viewOutput'>Protokoll</a>. Canceled future for execute_request message before replies were done"
     ]
    }
   ],
   "source": [
    "calcSVM = True;\n",
    "calcNN = True;"
   ]
  },
  {
   "cell_type": "markdown",
   "metadata": {},
   "source": [
    "## Import Data"
   ]
  },
  {
   "cell_type": "code",
   "execution_count": null,
   "metadata": {},
   "outputs": [
    {
     "ename": "",
     "evalue": "",
     "output_type": "error",
     "traceback": [
      "\u001b[1;31mDer Kernel konnte nicht gestartet werden. \n",
      "\u001b[1;31mFehler beim Starten des Kernels „Python 3.9.0 64-bit“. \n",
      "\u001b[1;31mWeitere Details finden Sie im Jupyter-<a href='command:jupyter.viewOutput'>Protokoll</a>. Canceled future for execute_request message before replies were done"
     ]
    }
   ],
   "source": [
    "# Load Data\n",
    "db1 = pd.read_pickle(r'.\\cifar-10-batches-py\\data_batch_1')\n",
    "db2 = pd.read_pickle(r'.\\cifar-10-batches-py\\data_batch_2')\n",
    "db3 = pd.read_pickle(r'.\\cifar-10-batches-py\\data_batch_3')\n",
    "db4 = pd.read_pickle(r'.\\cifar-10-batches-py\\data_batch_4')\n",
    "db5 = pd.read_pickle(r'.\\cifar-10-batches-py\\data_batch_5')\n",
    "dbt = pd.read_pickle(r'.\\cifar-10-batches-py\\test_batch')\n",
    "meta = pd.read_pickle(r'.\\cifar-10-batches-py\\batches.meta')\n",
    "\n",
    "labels = db1['labels'] + db2['labels'] + db3['labels'] + db4['labels'] + db5['labels'] + dbt['labels']\n",
    "\n",
    "data = np.vstack((db1['data'], db2['data'], db3['data'], db4['data'], db5['data'], dbt['data']))\n",
    "\n",
    "len(data)"
   ]
  },
  {
   "cell_type": "code",
   "execution_count": null,
   "metadata": {},
   "outputs": [
    {
     "ename": "",
     "evalue": "",
     "output_type": "error",
     "traceback": [
      "\u001b[1;31mDer Kernel konnte nicht gestartet werden. \n",
      "\u001b[1;31mFehler beim Starten des Kernels „Python 3.9.0 64-bit“. \n",
      "\u001b[1;31mWeitere Details finden Sie im Jupyter-<a href='command:jupyter.viewOutput'>Protokoll</a>. Canceled future for execute_request message before replies were done"
     ]
    }
   ],
   "source": [
    "# label names\n",
    "labelNames = meta['label_names']\n",
    "\n",
    "#reshape\n",
    "data = np.array(data)\n",
    "data = data.reshape(len(data), 3, 32, 32).transpose(0,2,3,1)"
   ]
  },
  {
   "cell_type": "markdown",
   "metadata": {},
   "source": [
    "## Feature Engeneering"
   ]
  },
  {
   "cell_type": "code",
   "execution_count": null,
   "metadata": {},
   "outputs": [
    {
     "ename": "",
     "evalue": "",
     "output_type": "error",
     "traceback": [
      "\u001b[1;31mDer Kernel konnte nicht gestartet werden. \n",
      "\u001b[1;31mFehler beim Starten des Kernels „Python 3.9.0 64-bit“. \n",
      "\u001b[1;31mWeitere Details finden Sie im Jupyter-<a href='command:jupyter.viewOutput'>Protokoll</a>. Canceled future for execute_request message before replies were done"
     ]
    }
   ],
   "source": [
    "data_features = []\n",
    "pca = PCA(n_components=32) # 32 x components\n",
    "\n",
    "for i in range(0, 60000):\n",
    "    img = data[i]\n",
    "    arr = np.array([])\n",
    "\n",
    "    gray_img = rgb2gray(img) #remove color --> to gray\n",
    "    x = threshold_mean(gray_img) # calculate threshold\n",
    "    binary = gray_img > x #check if values above or below thershold\n",
    "    binary_fit = pca.fit(binary) # reduce dimension\n",
    "\n",
    "    data_feature = (np.array(binary_fit.components_).ravel())\n",
    "\n",
    "    #gray_ubytes = img_as_ubyte(gray_img)\n",
    "    #data_feature = np.append(data_feature, entropy(gray_ubytes, disk(5))) #calculate histogram\n",
    "\n",
    "    fd, hog_image = hog(img, orientations=8, pixels_per_cell=(16, 16),\n",
    "                    cells_per_block=(1, 1), visualize=True, channel_axis=-1)\n",
    "\n",
    "    data_feature = np.append(data_feature, fd)\n",
    "\n",
    "    data_features.append(data_feature)"
   ]
  },
  {
   "cell_type": "code",
   "execution_count": null,
   "metadata": {},
   "outputs": [
    {
     "ename": "",
     "evalue": "",
     "output_type": "error",
     "traceback": [
      "\u001b[1;31mDer Kernel konnte nicht gestartet werden. \n",
      "\u001b[1;31mFehler beim Starten des Kernels „Python 3.9.0 64-bit“. \n",
      "\u001b[1;31mWeitere Details finden Sie im Jupyter-<a href='command:jupyter.viewOutput'>Protokoll</a>. Canceled future for execute_request message before replies were done"
     ]
    }
   ],
   "source": [
    "#components\n",
    "len(data_features[0])"
   ]
  },
  {
   "cell_type": "code",
   "execution_count": null,
   "metadata": {},
   "outputs": [
    {
     "ename": "",
     "evalue": "",
     "output_type": "error",
     "traceback": [
      "\u001b[1;31mDer Kernel konnte nicht gestartet werden. \n",
      "\u001b[1;31mFehler beim Starten des Kernels „Python 3.9.0 64-bit“. \n",
      "\u001b[1;31mWeitere Details finden Sie im Jupyter-<a href='command:jupyter.viewOutput'>Protokoll</a>. Canceled future for execute_request message before replies were done"
     ]
    }
   ],
   "source": [
    "#show for test\n",
    "index = 0\n",
    "plt.imshow(data[index], cmap='gray')\n",
    "print(labelNames[labels[index]])"
   ]
  },
  {
   "cell_type": "markdown",
   "metadata": {},
   "source": [
    "## Prepare Data"
   ]
  },
  {
   "cell_type": "code",
   "execution_count": null,
   "metadata": {},
   "outputs": [
    {
     "ename": "",
     "evalue": "",
     "output_type": "error",
     "traceback": [
      "\u001b[1;31mDer Kernel konnte nicht gestartet werden. \n",
      "\u001b[1;31mFehler beim Starten des Kernels „Python 3.9.0 64-bit“. \n",
      "\u001b[1;31mWeitere Details finden Sie im Jupyter-<a href='command:jupyter.viewOutput'>Protokoll</a>. Canceled future for execute_request message before replies were done"
     ]
    }
   ],
   "source": [
    "#shuffle\n",
    "labels, data_features, data= utils.shuffle(labels, data_features, data)"
   ]
  },
  {
   "cell_type": "code",
   "execution_count": null,
   "metadata": {},
   "outputs": [
    {
     "ename": "",
     "evalue": "",
     "output_type": "error",
     "traceback": [
      "\u001b[1;31mDer Kernel konnte nicht gestartet werden. \n",
      "\u001b[1;31mFehler beim Starten des Kernels „Python 3.9.0 64-bit“. \n",
      "\u001b[1;31mWeitere Details finden Sie im Jupyter-<a href='command:jupyter.viewOutput'>Protokoll</a>. Canceled future for execute_request message before replies were done"
     ]
    }
   ],
   "source": [
    "cntTrain = 45000\n",
    "cntTest = 15000\n",
    "\n",
    "# splitt\n",
    "X_train = np.array(data[:cntTrain])\n",
    "Y_train = np.array(labels[:cntTrain])\n",
    "\n",
    "X_test = np.array(data[-cntTest:])\n",
    "Y_test = np.array(labels[-cntTest:])\n",
    "\n",
    "Y_train = Y_train.flatten()\n",
    "Y_test = Y_test.flatten()\n",
    "\n",
    "X_train_features = data_features[:cntTrain]\n",
    "Y_train_features = labels[:cntTrain]\n",
    "\n",
    "X_test_features = data_features[-cntTest:]\n",
    "Y_test_features = labels[-cntTest:]"
   ]
  },
  {
   "cell_type": "markdown",
   "metadata": {},
   "source": [
    "## Vizualize Data"
   ]
  },
  {
   "cell_type": "code",
   "execution_count": null,
   "metadata": {},
   "outputs": [
    {
     "ename": "",
     "evalue": "",
     "output_type": "error",
     "traceback": [
      "\u001b[1;31mDer Kernel konnte nicht gestartet werden. \n",
      "\u001b[1;31mFehler beim Starten des Kernels „Python 3.9.0 64-bit“. \n",
      "\u001b[1;31mWeitere Details finden Sie im Jupyter-<a href='command:jupyter.viewOutput'>Protokoll</a>. Canceled future for execute_request message before replies were done"
     ]
    }
   ],
   "source": [
    "plt.figure(figsize=(10,7))\n",
    "p = sns.countplot(Y_train.flatten())\n",
    "p.set(xticklabels=labelNames)"
   ]
  },
  {
   "cell_type": "markdown",
   "metadata": {},
   "source": [
    "## SVM"
   ]
  },
  {
   "cell_type": "code",
   "execution_count": null,
   "metadata": {},
   "outputs": [
    {
     "ename": "",
     "evalue": "",
     "output_type": "error",
     "traceback": [
      "\u001b[1;31mDer Kernel konnte nicht gestartet werden. \n",
      "\u001b[1;31mFehler beim Starten des Kernels „Python 3.9.0 64-bit“. \n",
      "\u001b[1;31mWeitere Details finden Sie im Jupyter-<a href='command:jupyter.viewOutput'>Protokoll</a>. Canceled future for execute_request message before replies were done"
     ]
    }
   ],
   "source": [
    "if(calcSVM):\n",
    "    \n",
    "    Y_test_features = np.array(Y_test_features)\n",
    "\n",
    "    # Create the SVM\n",
    "    svm = SVC(random_state=42, kernel='rbf') # rbf or poly\n",
    "\n",
    "    # Fit the data to the SVM classifier\n",
    "    svm = svm.fit(X_train_features, Y_train_features)\n",
    "\n",
    "    # Generate predictions\n",
    "    y_pred_features = svm.predict(X_test_features)\n",
    "\n",
    "    # Evaluate by means of accuracy\n",
    "    accuracy = accuracy_score(Y_test, y_pred_features)\n",
    "    print(f'Model accuracy: {accuracy}')\n",
    "\n",
    "    vscores = cross_val_score(svm, X_test_features, Y_test_features, cv=5)\n",
    "    print(vscores)\n"
   ]
  },
  {
   "cell_type": "code",
   "execution_count": null,
   "metadata": {},
   "outputs": [
    {
     "ename": "",
     "evalue": "",
     "output_type": "error",
     "traceback": [
      "\u001b[1;31mDer Kernel konnte nicht gestartet werden. \n",
      "\u001b[1;31mFehler beim Starten des Kernels „Python 3.9.0 64-bit“. \n",
      "\u001b[1;31mWeitere Details finden Sie im Jupyter-<a href='command:jupyter.viewOutput'>Protokoll</a>. Canceled future for execute_request message before replies were done"
     ]
    }
   ],
   "source": [
    "if(calcSVM):\n",
    "    #evaluate with confusion matrix\n",
    "    cf_matrix = confusion_matrix(Y_test, y_pred_features)\n",
    "\n",
    "    plt.figure(figsize=(12, 9))\n",
    "    c = sns.heatmap(cf_matrix, annot=True, fmt='g', cmap=\"crest\")\n",
    "    c.set(xticklabels=labelNames, yticklabels=labelNames)"
   ]
  },
  {
   "cell_type": "markdown",
   "metadata": {},
   "source": [
    "## Neuronale Network"
   ]
  },
  {
   "cell_type": "code",
   "execution_count": null,
   "metadata": {},
   "outputs": [
    {
     "ename": "",
     "evalue": "",
     "output_type": "error",
     "traceback": [
      "\u001b[1;31mDer Kernel konnte nicht gestartet werden. \n",
      "\u001b[1;31mFehler beim Starten des Kernels „Python 3.9.0 64-bit“. \n",
      "\u001b[1;31mWeitere Details finden Sie im Jupyter-<a href='command:jupyter.viewOutput'>Protokoll</a>. Canceled future for execute_request message before replies were done"
     ]
    }
   ],
   "source": [
    "if(calcNN):\n",
    "input_shape = (32, 32, 3)\n",
    "\n",
    "X_train=X_train.reshape(X_train.shape[0], X_train.shape[1], X_train.shape[2], 3)\n",
    "X_train=X_train / 255.0\n",
    "X_test = X_test.reshape(X_test.shape[0], X_test.shape[1], X_test.shape[2], 3)\n",
    "X_test=X_test / 255.0\n",
    "\n",
    "Y_train = tf.one_hot(Y_train.astype(np.int32), depth=10)\n",
    "Y_test = tf.one_hot(Y_test.astype(np.int32), depth=10)"
   ]
  },
  {
   "cell_type": "code",
   "execution_count": null,
   "metadata": {},
   "outputs": [
    {
     "ename": "",
     "evalue": "",
     "output_type": "error",
     "traceback": [
      "\u001b[1;31mDer Kernel konnte nicht gestartet werden. \n",
      "\u001b[1;31mFehler beim Starten des Kernels „Python 3.9.0 64-bit“. \n",
      "\u001b[1;31mWeitere Details finden Sie im Jupyter-<a href='command:jupyter.viewOutput'>Protokoll</a>. Canceled future for execute_request message before replies were done"
     ]
    }
   ],
   "source": [
    "if(calcNN):\n",
    "batch_size = 32\n",
    "num_classes = 10\n",
    "epochs = 100\n",
    "\n",
    "model = tf.keras.models.Sequential([\n",
    "    tf.keras.layers.Conv2D(32, 3, padding='same', input_shape=X_train.shape[1:], activation='relu'),\n",
    "    tf.keras.layers.Conv2D(32, 3, activation='relu'),\n",
    "    tf.keras.layers.MaxPooling2D(),\n",
    "    tf.keras.layers.Dropout(0.25),\n",
    "\n",
    "    tf.keras.layers.Conv2D(64, 3, padding='same', activation='relu'),\n",
    "    tf.keras.layers.Conv2D(64, 3, activation='relu'),\n",
    "    tf.keras.layers.MaxPooling2D(),\n",
    "    tf.keras.layers.Dropout(0.25),\n",
    "\n",
    "    tf.keras.layers.Flatten(),\n",
    "    tf.keras.layers.Dense(512, activation='relu'),\n",
    "    tf.keras.layers.Dropout(0.5),\n",
    "    tf.keras.layers.Dense(num_classes, activation='softmax'),\n",
    "])\n",
    "\n",
    "model.compile(optimizer=tf.keras.optimizers.RMSprop(learning_rate=0.00001),\n",
    "            loss='categorical_crossentropy', metrics=['acc'])"
   ]
  },
  {
   "cell_type": "code",
   "execution_count": null,
   "metadata": {},
   "outputs": [
    {
     "ename": "",
     "evalue": "",
     "output_type": "error",
     "traceback": [
      "\u001b[1;31mDer Kernel konnte nicht gestartet werden. \n",
      "\u001b[1;31mFehler beim Starten des Kernels „Python 3.9.0 64-bit“. \n",
      "\u001b[1;31mWeitere Details finden Sie im Jupyter-<a href='command:jupyter.viewOutput'>Protokoll</a>. Canceled future for execute_request message before replies were done"
     ]
    }
   ],
   "source": [
    "if(calcNN):\n",
    "history = model.fit(X_train, Y_train, batch_size=batch_size,\n",
    "                epochs=epochs)"
   ]
  },
  {
   "cell_type": "code",
   "execution_count": null,
   "metadata": {},
   "outputs": [
    {
     "ename": "",
     "evalue": "",
     "output_type": "error",
     "traceback": [
      "\u001b[1;31mDer Kernel konnte nicht gestartet werden. \n",
      "\u001b[1;31mFehler beim Starten des Kernels „Python 3.9.0 64-bit“. \n",
      "\u001b[1;31mWeitere Details finden Sie im Jupyter-<a href='command:jupyter.viewOutput'>Protokoll</a>. Canceled future for execute_request message before replies were done"
     ]
    }
   ],
   "source": [
    "if(calcNN):\n",
    "fig, ax = plt.subplots(2,1)\n",
    "ax[0].plot(history.history['loss'], color='b', label=\"Training Loss\")\n",
    "legend = ax[0].legend(loc='best', shadow=True)\n",
    "\n",
    "ax[1].plot(history.history['acc'], color='b', label=\"Training Accuracy\")\n",
    "legend = ax[1].legend(loc='best', shadow=True)"
   ]
  },
  {
   "cell_type": "code",
   "execution_count": null,
   "metadata": {},
   "outputs": [
    {
     "ename": "",
     "evalue": "",
     "output_type": "error",
     "traceback": [
      "\u001b[1;31mDer Kernel konnte nicht gestartet werden. \n",
      "\u001b[1;31mFehler beim Starten des Kernels „Python 3.9.0 64-bit“. \n",
      "\u001b[1;31mWeitere Details finden Sie im Jupyter-<a href='command:jupyter.viewOutput'>Protokoll</a>. Canceled future for execute_request message before replies were done"
     ]
    }
   ],
   "source": [
    "if(calcNN):\n",
    "    test_loss, test_acc = model.evaluate(X_test, Y_test)"
   ]
  },
  {
   "cell_type": "code",
   "execution_count": null,
   "metadata": {},
   "outputs": [
    {
     "ename": "",
     "evalue": "",
     "output_type": "error",
     "traceback": [
      "\u001b[1;31mDer Kernel konnte nicht gestartet werden. \n",
      "\u001b[1;31mFehler beim Starten des Kernels „Python 3.9.0 64-bit“. \n",
      "\u001b[1;31mWeitere Details finden Sie im Jupyter-<a href='command:jupyter.viewOutput'>Protokoll</a>. Canceled future for execute_request message before replies were done"
     ]
    }
   ],
   "source": [
    "if(calcNN):\n",
    "    # Predict the values from the validation dataset\n",
    "    y_pred = model.predict(X_test)\n",
    "    # Convert predictions classes to one hot vectors \n",
    "    y_pred_classes = np.argmax(y_pred,axis = 1) \n",
    "    # Convert validation observations to one hot vectors\n",
    "    y_true = np.argmax(Y_test,axis = 1)\n",
    "    # compute the confusion matrix\n",
    "    confusion_mtx = tf.math.confusion_matrix(y_true, y_pred_classes)\n",
    "\n",
    "    plt.figure(figsize=(12, 9))\n",
    "    c = sns.heatmap(confusion_mtx, annot=True, fmt='g', cmap=\"crest\")\n",
    "    c.set(xticklabels=labelNames, yticklabels=labelNames)"
   ]
  }
 ],
 "metadata": {
  "kernelspec": {
   "display_name": "Python 3.9.0 64-bit",
   "language": "python",
   "name": "python3"
  },
  "language_info": {
   "codemirror_mode": {
    "name": "ipython",
    "version": 3
   },
   "file_extension": ".py",
   "mimetype": "text/x-python",
   "name": "python",
   "nbconvert_exporter": "python",
   "pygments_lexer": "ipython3",
   "version": "3.9.0 (tags/v3.9.0:9cf6752, Oct  5 2020, 15:34:40) [MSC v.1927 64 bit (AMD64)]"
  },
  "orig_nbformat": 4,
  "vscode": {
   "interpreter": {
    "hash": "7ea55c8ec2835ccd11064370aa697fbebe0509b45e851c88d6b885caaf9a435a"
   }
  }
 },
 "nbformat": 4,
 "nbformat_minor": 2
}
